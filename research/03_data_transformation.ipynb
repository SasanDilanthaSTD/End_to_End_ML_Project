{
 "cells": [
  {
   "cell_type": "code",
   "execution_count": 1,
   "metadata": {},
   "outputs": [
    {
     "data": {
      "text/plain": [
       "'/media/sasan/Common/ML/EtoE/research'"
      ]
     },
     "execution_count": 1,
     "metadata": {},
     "output_type": "execute_result"
    }
   ],
   "source": [
    "import os\n",
    "%pwd"
   ]
  },
  {
   "cell_type": "code",
   "execution_count": 2,
   "metadata": {},
   "outputs": [
    {
     "data": {
      "text/plain": [
       "'/media/sasan/Common/ML/EtoE'"
      ]
     },
     "execution_count": 2,
     "metadata": {},
     "output_type": "execute_result"
    }
   ],
   "source": [
    "os.chdir(\"../\")\n",
    "%pwd"
   ]
  },
  {
   "cell_type": "code",
   "execution_count": 3,
   "metadata": {},
   "outputs": [],
   "source": [
    "from dataclasses import dataclass\n",
    "from pathlib import Path\n",
    "\n",
    "@dataclass(frozen=True)\n",
    "class DataTransformationConfig:\n",
    "    root_dir: Path\n",
    "    data_path: Path"
   ]
  },
  {
   "cell_type": "code",
   "execution_count": 5,
   "metadata": {},
   "outputs": [],
   "source": [
    "from RedWineQualityPrediction.constanst import *\n",
    "from RedWineQualityPrediction.utils.common import read_yaml, create_derectories"
   ]
  },
  {
   "cell_type": "code",
   "execution_count": 6,
   "metadata": {},
   "outputs": [],
   "source": [
    "class ConfigurationManager:\n",
    "    def __init__(\n",
    "        self,\n",
    "        config_filepath = CONFIG_FILE_PATH,\n",
    "        params_filepath = PARAMS_FILE_PATH,\n",
    "        schema_filepath = SCHEMA_FILE_PATH\n",
    "    ):\n",
    "        self.config = read_yaml(config_filepath)\n",
    "        self.params = read_yaml(params_filepath)\n",
    "        self.schema = read_yaml(schema_filepath)\n",
    "        \n",
    "        create_derectories([self.config.artifacts_root])\n",
    "    \n",
    "    def data_transformation_config(self) -> DataTransformationConfig:\n",
    "        confing = self.config.data_transformation\n",
    "        \n",
    "        create_derectories([confing.root_dir])\n",
    "        \n",
    "        return DataTransformationConfig(\n",
    "            root_dir=confing.root_dir,\n",
    "            data_path=confing.data_path\n",
    "        )"
   ]
  },
  {
   "cell_type": "code",
   "execution_count": 7,
   "metadata": {},
   "outputs": [],
   "source": [
    "import os\n",
    "from RedWineQualityPrediction import logger\n",
    "import pandas as pd\n",
    "from sklearn.model_selection import train_test_split"
   ]
  },
  {
   "cell_type": "code",
   "execution_count": 8,
   "metadata": {},
   "outputs": [],
   "source": [
    "class DataTransformation:\n",
    "    def __init__(self, config: DataTransformationConfig):\n",
    "        self.config = config\n",
    "        \n",
    "    def train_test_spliting(self):\n",
    "        dataset = pd.read_csv(self.config.data_path)\n",
    "        \n",
    "        # spliting the data set into traingin and testing. 75% 25%\n",
    "        train, test = train_test_split(dataset)\n",
    "        \n",
    "        train.to_csv(os.path.join(self.config.root_dir,\"train.csv\"),index=False)\n",
    "        test.to_csv(os.path.join(self.config.root_dir, \"test.csv\"),index=False)\n",
    "        \n",
    "        logger.info(\"Splied data into traing and test sets\")\n",
    "        logger.info(train.shape)\n",
    "        logger.info(test.shape)\n",
    "        \n",
    "        print(train.shape)\n",
    "        print(test.shape)"
   ]
  },
  {
   "cell_type": "code",
   "execution_count": 9,
   "metadata": {},
   "outputs": [
    {
     "name": "stdout",
     "output_type": "stream",
     "text": [
      "[2025-02-06 14:51:27,689: INFO: common: Reading the yaml file from ::     config/config.yml]\n",
      "[2025-02-06 14:51:27,693: INFO: common: Reading the yaml file from ::     params.yml]\n",
      "[2025-02-06 14:51:27,699: INFO: common: Reading the yaml file from ::     schema.yml]\n",
      "[2025-02-06 14:51:27,701: INFO: common: Directory created at :: artifacts]\n",
      "[2025-02-06 14:51:27,704: INFO: common: Directory created at :: artifacts/data_transformation]\n",
      "[2025-02-06 14:51:27,985: INFO: 15519314: Splied data into traing and test sets]\n",
      "[2025-02-06 14:51:27,986: INFO: 15519314: (1199, 12)]\n",
      "[2025-02-06 14:51:27,988: INFO: 15519314: (400, 12)]\n",
      "(1199, 12)\n",
      "(400, 12)\n"
     ]
    }
   ],
   "source": [
    "try:\n",
    "    config = ConfigurationManager()\n",
    "    data_trm_config = config.data_transformation_config()\n",
    "    data_trm = DataTransformation(config=data_trm_config)\n",
    "    data_trm.train_test_spliting()\n",
    "except Exception as error:\n",
    "    raise error"
   ]
  },
  {
   "cell_type": "code",
   "execution_count": null,
   "metadata": {},
   "outputs": [],
   "source": []
  }
 ],
 "metadata": {
  "kernelspec": {
   "display_name": "mlproj",
   "language": "python",
   "name": "python3"
  },
  "language_info": {
   "codemirror_mode": {
    "name": "ipython",
    "version": 3
   },
   "file_extension": ".py",
   "mimetype": "text/x-python",
   "name": "python",
   "nbconvert_exporter": "python",
   "pygments_lexer": "ipython3",
   "version": "3.8.20"
  }
 },
 "nbformat": 4,
 "nbformat_minor": 2
}
