{
 "cells": [
  {
   "cell_type": "code",
   "execution_count": 1,
   "metadata": {},
   "outputs": [
    {
     "data": {
      "text/plain": [
       "'/media/sasan/Common/ML/EtoE/research'"
      ]
     },
     "execution_count": 1,
     "metadata": {},
     "output_type": "execute_result"
    }
   ],
   "source": [
    "import os\n",
    "%pwd"
   ]
  },
  {
   "cell_type": "code",
   "execution_count": 2,
   "metadata": {},
   "outputs": [
    {
     "data": {
      "text/plain": [
       "'/media/sasan/Common/ML/EtoE'"
      ]
     },
     "execution_count": 2,
     "metadata": {},
     "output_type": "execute_result"
    }
   ],
   "source": [
    "os.chdir(\"../\")\n",
    "%pwd"
   ]
  },
  {
   "cell_type": "code",
   "execution_count": 3,
   "metadata": {},
   "outputs": [],
   "source": [
    "from dataclasses import dataclass\n",
    "from pathlib import Path\n",
    "\n",
    "@dataclass(frozen=True)\n",
    "class DataValidationConfig:\n",
    "    root_dir: Path\n",
    "    STATUS_FILE: str\n",
    "    unzip_dir: Path\n",
    "    all_schema: dict"
   ]
  },
  {
   "cell_type": "code",
   "execution_count": 10,
   "metadata": {},
   "outputs": [],
   "source": [
    "from RedWineQualityPrediction.constanst import *\n",
    "from RedWineQualityPrediction.utils.common import read_yaml, create_derectories"
   ]
  },
  {
   "cell_type": "code",
   "execution_count": 5,
   "metadata": {},
   "outputs": [],
   "source": [
    "class ConfigurationManager:\n",
    "    def __init__(\n",
    "        self,\n",
    "        config_filepath = CONFIG_FILE_PATH,\n",
    "        params_filepath = PARAMS_FILE_PATH,\n",
    "        schema_filepath = SCHEMA_FILE_PATH\n",
    "    ):\n",
    "        self.config = read_yaml(config_filepath)\n",
    "        self.params = read_yaml(params_filepath)\n",
    "        self.schema = read_yaml(schema_filepath)\n",
    "        \n",
    "        create_derectories([self.config.artifacts_root])\n",
    "        \n",
    "    def data_validation_config(self) -> DataValidationConfig:\n",
    "        confing = self.config.data_validation\n",
    "        schema = self.schema.COLUMNS\n",
    "        \n",
    "        create_derectories([confing.root_dir])\n",
    "        \n",
    "        return DataValidationConfig(\n",
    "            root_dir=confing.root_dir,\n",
    "            STATUS_FILE=confing.STATUS_FILE,\n",
    "            unzip_dir=confing.unzip_data_dir,\n",
    "            all_schema=schema\n",
    "        )"
   ]
  },
  {
   "cell_type": "code",
   "execution_count": 7,
   "metadata": {},
   "outputs": [],
   "source": [
    "import os\n",
    "from RedWineQualityPrediction import logger\n",
    "import pandas as pd"
   ]
  },
  {
   "cell_type": "code",
   "execution_count": null,
   "metadata": {},
   "outputs": [],
   "source": []
  },
  {
   "cell_type": "code",
   "execution_count": 24,
   "metadata": {},
   "outputs": [],
   "source": [
    "class DataValidation:\n",
    "    def __init__(self, config: DataValidationConfig):\n",
    "        self.config = config\n",
    "        \n",
    "    def validate_all_columns(self)-> bool:\n",
    "        try:\n",
    "            validation_status = None\n",
    "            \n",
    "            dataset = pd.read_csv(self.config.unzip_dir)\n",
    "            all_cols = list(dataset.columns)\n",
    "            \n",
    "            all_schemas = self.config.all_schema.keys()\n",
    "            \n",
    "            for col in all_cols:\n",
    "                if col not in all_schemas:\n",
    "                    validation_status=False\n",
    "                    logger.info(f\"ERRO: {col} is not in schema\")\n",
    "                else:\n",
    "                    validation_status=True\n",
    "            if validation_status:\n",
    "                # Validate the columns datatypes\n",
    "                    expected_schema = self.config.all_schema # get key and value both pares\n",
    "                    \n",
    "                    for col, expec_dtype in expected_schema.items():\n",
    "                        dataset_col_dtype = dataset[col].dtype\n",
    "                        \n",
    "                        # compare the csv file data type and schema data type\n",
    "                        if dataset_col_dtype != expec_dtype :\n",
    "                            validation_status=False\n",
    "                            logger.info(f\"ERRO: {col} data type is {dataset_col_dtype} and schema data type is {expec_dtype}\")\n",
    "                        else:\n",
    "                            validation_status=True\n",
    "                            logger.info(f\"Data validation success in :: {col}\")\n",
    "                    \n",
    "            with open(self.config.STATUS_FILE, \"w\") as f:\n",
    "                        f.write(f\"Validation Status: {validation_status}\")\n",
    "                        \n",
    "            return validation_status\n",
    "            \n",
    "        except Exception as error:\n",
    "            raise error"
   ]
  },
  {
   "cell_type": "code",
   "execution_count": 23,
   "metadata": {},
   "outputs": [
    {
     "name": "stdout",
     "output_type": "stream",
     "text": [
      "[2025-02-06 13:59:53,162: INFO: common: Reading the yaml file from ::     config/config.yml]\n",
      "[2025-02-06 13:59:53,167: INFO: common: Reading the yaml file from ::     params.yml]\n",
      "[2025-02-06 13:59:53,174: INFO: common: Reading the yaml file from ::     schema.yml]\n",
      "[2025-02-06 13:59:53,176: INFO: common: Directory created at :: artifacts]\n",
      "[2025-02-06 13:59:53,178: INFO: common: Directory created at :: artifacts/data_validation]\n",
      "[2025-02-06 13:59:53,189: INFO: 3451669464: Data validation success in :: fixed acidity]\n",
      "[2025-02-06 13:59:53,191: INFO: 3451669464: Data validation success in :: volatile acidity]\n",
      "[2025-02-06 13:59:53,193: INFO: 3451669464: Data validation success in :: citric acid]\n",
      "[2025-02-06 13:59:53,195: INFO: 3451669464: Data validation success in :: residual sugar]\n",
      "[2025-02-06 13:59:53,197: INFO: 3451669464: Data validation success in :: chlorides]\n",
      "[2025-02-06 13:59:53,198: INFO: 3451669464: Data validation success in :: free sulfur dioxide]\n",
      "[2025-02-06 13:59:53,200: INFO: 3451669464: Data validation success in :: total sulfur dioxide]\n",
      "[2025-02-06 13:59:53,201: INFO: 3451669464: Data validation success in :: density]\n",
      "[2025-02-06 13:59:53,202: INFO: 3451669464: Data validation success in :: pH]\n",
      "[2025-02-06 13:59:53,203: INFO: 3451669464: Data validation success in :: sulphates]\n",
      "[2025-02-06 13:59:53,204: INFO: 3451669464: Data validation success in :: alcohol]\n",
      "[2025-02-06 13:59:53,206: INFO: 3451669464: Data validation success in :: quality]\n"
     ]
    }
   ],
   "source": [
    "try:\n",
    "    config = ConfigurationManager()\n",
    "    data_val_config = config.data_validation_config()\n",
    "    data_val = DataValidation(config=data_val_config)\n",
    "    data_val.validate_all_columns()\n",
    "except Exception as error:\n",
    "    raise error"
   ]
  },
  {
   "cell_type": "code",
   "execution_count": null,
   "metadata": {},
   "outputs": [],
   "source": []
  }
 ],
 "metadata": {
  "kernelspec": {
   "display_name": "mlproj",
   "language": "python",
   "name": "python3"
  },
  "language_info": {
   "codemirror_mode": {
    "name": "ipython",
    "version": 3
   },
   "file_extension": ".py",
   "mimetype": "text/x-python",
   "name": "python",
   "nbconvert_exporter": "python",
   "pygments_lexer": "ipython3",
   "version": "3.8.20"
  }
 },
 "nbformat": 4,
 "nbformat_minor": 2
}
