{
 "cells": [
  {
   "cell_type": "code",
   "execution_count": 1,
   "metadata": {},
   "outputs": [
    {
     "data": {
      "text/plain": [
       "'/media/sasan/Common/ML/EtoE/research'"
      ]
     },
     "execution_count": 1,
     "metadata": {},
     "output_type": "execute_result"
    }
   ],
   "source": [
    "import os\n",
    "%pwd"
   ]
  },
  {
   "cell_type": "code",
   "execution_count": 2,
   "metadata": {},
   "outputs": [
    {
     "data": {
      "text/plain": [
       "'/media/sasan/Common/ML/EtoE'"
      ]
     },
     "execution_count": 2,
     "metadata": {},
     "output_type": "execute_result"
    }
   ],
   "source": [
    "os.chdir('../')\n",
    "%pwd"
   ]
  },
  {
   "cell_type": "code",
   "execution_count": 3,
   "metadata": {},
   "outputs": [],
   "source": [
    "from dataclasses import dataclass\n",
    "from pathlib import Path\n",
    "\n",
    "@dataclass(frozen=True)\n",
    "class DataIngstionConfig:\n",
    "    root_dir: Path\n",
    "    source_URL: str\n",
    "    local_data_file: Path\n",
    "    unzip_dir: Path\n",
    "    "
   ]
  },
  {
   "cell_type": "code",
   "execution_count": 4,
   "metadata": {},
   "outputs": [],
   "source": [
    "from RedWineQualityPrediction.constanst import *\n",
    "from RedWineQualityPrediction.utils.common import read_yaml, create_derectories"
   ]
  },
  {
   "cell_type": "code",
   "execution_count": 5,
   "metadata": {},
   "outputs": [],
   "source": [
    "class ConfigurationManager:\n",
    "    def __init__(\n",
    "        self,\n",
    "        config_filepath = CONFIG_FILE_PATH,\n",
    "        params_filepath = PARAMS_FILE_PATH,\n",
    "        schema_filepath = SCHEMA_FILE_PATH\n",
    "    ):\n",
    "        self.config = read_yaml(config_filepath)\n",
    "        self.params = read_yaml(params_filepath)\n",
    "        self.schema = read_yaml(schema_filepath)\n",
    "        \n",
    "        create_derectories([self.config.artifacts_root])\n",
    "        \n",
    "        \n",
    "    def get_data_ingestion_config(self) -> DataIngstionConfig:\n",
    "        config = self.config.data_ingestion\n",
    "        \n",
    "        create_derectories([config.root_dir])\n",
    "        \n",
    "        return DataIngstionConfig(\n",
    "            root_dir=config.root_dir,\n",
    "            source_URL=config.source_URL,\n",
    "            local_data_file=config.local_data_file,\n",
    "            unzip_dir=config.unzip_dir\n",
    "        )"
   ]
  },
  {
   "cell_type": "code",
   "execution_count": 7,
   "metadata": {},
   "outputs": [],
   "source": [
    "import os\n",
    "import urllib.request as request\n",
    "import zipfile\n",
    "from RedWineQualityPrediction import logger\n",
    "from RedWineQualityPrediction.utils.common import get_size"
   ]
  },
  {
   "cell_type": "code",
   "execution_count": 13,
   "metadata": {},
   "outputs": [],
   "source": [
    "class DataIngestion:\n",
    "    def __init__(self, config: DataIngstionConfig):\n",
    "        self.config = config\n",
    "        \n",
    "    def download_data_file(self):\n",
    "        if not os.path.exists(self.config.local_data_file):\n",
    "            file_name, headers = request.urlretrieve(\n",
    "                url=self.config.source_URL,\n",
    "                filename=self.config.local_data_file\n",
    "            )\n",
    "            logger.info(f\"Downloaded file: {file_name} with folowing infor: \\n {headers}\")\n",
    "        else:\n",
    "            logger.info(f\"File already exists: {self.config.local_data_file} and size of the file is: {get_size(Path(self.config.local_data_file))}\")\n",
    "    \n",
    "    \n",
    "    def unzip_data_file(self):\n",
    "        \"\"\"\n",
    "        zip_file_path: str\n",
    "        extract the zip file in to the data directory\n",
    "        Function return none\n",
    "        \"\"\"\n",
    "        unzip_path = self.config.unzip_dir\n",
    "        os.makedirs(unzip_path, exist_ok=True)\n",
    "        with zipfile.ZipFile(self.config.local_data_file, 'r') as zip_ref:\n",
    "            zip_ref.extractall(unzip_path)"
   ]
  },
  {
   "cell_type": "code",
   "execution_count": 14,
   "metadata": {},
   "outputs": [
    {
     "name": "stdout",
     "output_type": "stream",
     "text": [
      "[2025-02-05 21:38:41,742: INFO: common: Reading the yaml file from ::     config/config.yml]\n",
      "[2025-02-05 21:38:41,745: INFO: common: Reading the yaml file from ::     params.yml]\n",
      "[2025-02-05 21:38:41,750: INFO: common: Reading the yaml file from ::     schema.yml]\n",
      "[2025-02-05 21:38:41,752: INFO: common: Directory created at :: artifacts]\n",
      "[2025-02-05 21:38:41,753: INFO: common: Directory created at :: artifacts/data_ingestion]\n",
      "[2025-02-05 21:38:43,227: INFO: 3608074687: Downloaded file: artifacts/data_ingestion/data.zip with folowing infor: \n",
      " Connection: close\n",
      "Content-Length: 26176\n",
      "Cache-Control: max-age=300\n",
      "Content-Security-Policy: default-src 'none'; style-src 'unsafe-inline'; sandbox\n",
      "Content-Type: application/zip\n",
      "ETag: \"f751ec0917e15a3dc07c3094a49fb99713109dd8a9f29150bb5d187ec17facdf\"\n",
      "Strict-Transport-Security: max-age=31536000\n",
      "X-Content-Type-Options: nosniff\n",
      "X-Frame-Options: deny\n",
      "X-XSS-Protection: 1; mode=block\n",
      "X-GitHub-Request-Id: 94BF:197F1B:3BF573:3DD8FB:67A38B67\n",
      "Accept-Ranges: bytes\n",
      "Date: Wed, 05 Feb 2025 16:08:43 GMT\n",
      "Via: 1.1 varnish\n",
      "X-Served-By: cache-mrs1050084-MRS\n",
      "X-Cache: HIT\n",
      "X-Cache-Hits: 1\n",
      "X-Timer: S1738771723.120301,VS0,VE1\n",
      "Vary: Authorization,Accept-Encoding,Origin\n",
      "Access-Control-Allow-Origin: *\n",
      "Cross-Origin-Resource-Policy: cross-origin\n",
      "X-Fastly-Request-ID: 15abdb82b51232dd6f2e2e8a38b514ae03afc7cf\n",
      "Expires: Wed, 05 Feb 2025 16:13:43 GMT\n",
      "Source-Age: 58\n",
      "\n",
      "]\n"
     ]
    }
   ],
   "source": [
    "try:\n",
    "    config = ConfigurationManager()\n",
    "    data_ingestion_config = config.get_data_ingestion_config()\n",
    "    data_ingetion = DataIngestion(config=data_ingestion_config)\n",
    "    data_ingetion.download_data_file()\n",
    "    data_ingetion.unzip_data_file()\n",
    "except Exception as e:\n",
    "    raise e"
   ]
  },
  {
   "cell_type": "code",
   "execution_count": null,
   "metadata": {},
   "outputs": [],
   "source": []
  }
 ],
 "metadata": {
  "kernelspec": {
   "display_name": "mlproj",
   "language": "python",
   "name": "python3"
  },
  "language_info": {
   "codemirror_mode": {
    "name": "ipython",
    "version": 3
   },
   "file_extension": ".py",
   "mimetype": "text/x-python",
   "name": "python",
   "nbconvert_exporter": "python",
   "pygments_lexer": "ipython3",
   "version": "3.8.20"
  }
 },
 "nbformat": 4,
 "nbformat_minor": 2
}
